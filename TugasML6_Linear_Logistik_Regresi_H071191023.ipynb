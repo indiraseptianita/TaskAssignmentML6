{
  "nbformat": 4,
  "nbformat_minor": 0,
  "metadata": {
    "colab": {
      "name": "TugasML6_Linear Logistik Regresi_H071191023.ipynb",
      "provenance": []
    },
    "kernelspec": {
      "name": "python3",
      "display_name": "Python 3"
    },
    "language_info": {
      "name": "python"
    }
  },
  "cells": [
    {
      "cell_type": "markdown",
      "metadata": {
        "id": "OBARs6arO7p-"
      },
      "source": [
        "\n",
        "\n",
        "Nama : Indira Septianita Larasati\n",
        "\n",
        "NIM:H071191023\n",
        "\n",
        "Tugas6: Regresi Linear\n"
      ]
    },
    {
      "cell_type": "markdown",
      "metadata": {
        "id": "zKzUu9KESGrc"
      },
      "source": [
        "Regresi linear adalah teknik statistik untuk pemodelan dan investigasi hubungan dua atau lebih variabel. Regresi merupakan membangun model dalam memprediksi nilai dari data yang dimasukkan diberikan. Prediksi berbeda dengan klasifikasi. Yang sering dipakai dan paling sederhana adalah regresi linear sederhana. Regresi tidak linear harus dilenearkan terlebih dahulu.\n",
        "Metode utama untuk melakukan prediksi yaitu membangun model regresi dengan mencari hubungan antara satu atau lebih variabel independent atau prdictor(x) dengan variabel dependen atau respon(y) berupa angka. Prediksi yakni menduga sebuah nilai.\n",
        "\n",
        "variabel independen adalah variabel yang mempengaruhi atau yang menjadi sebab perubahannya atau timbulnya variabel dependen (terikat). variabel Dependen merupakan variabel yang dipengaruhi atau yang menjadi akibat, karena adanya variabel bebas"
      ]
    },
    {
      "cell_type": "code",
      "metadata": {
        "id": "yu1mf_tCHD7r"
      },
      "source": [
        "# import library yang kita diperlukan\n",
        "from sklearn.datasets import load_iris\n",
        "import numpy as np\n",
        "import pandas as pd\n",
        "from sklearn.linear_model import LinearRegression, LogisticRegression\n",
        "from sklearn.model_selection import train_test_split\n",
        "from matplotlib import pyplot as plt\n",
        "\n",
        "from sklearn.linear_model import LinearRegression"
      ],
      "execution_count": 141,
      "outputs": []
    },
    {
      "cell_type": "code",
      "metadata": {
        "id": "b1SRgqLcHGBd"
      },
      "source": [
        "# membuat dataframe baru dengan nama df yang berisi kolom usia dan ukuran sepatu\n",
        "df = pd.DataFrame({\n",
        "    'usia (X)':np.random.randint(15,30,200),\n",
        "    'ukuran tanah (Y)':np.random.randint(35,45,200)\n",
        "})"
      ],
      "execution_count": 142,
      "outputs": []
    },
    {
      "cell_type": "code",
      "metadata": {
        "colab": {
          "base_uri": "https://localhost:8080/",
          "height": 424
        },
        "id": "fwYc5MYpHISt",
        "outputId": "751b9228-d8b3-4916-9c14-8807f5a6cbee"
      },
      "source": [
        "# menampilkan dataframe\n",
        "df"
      ],
      "execution_count": 143,
      "outputs": [
        {
          "output_type": "execute_result",
          "data": {
            "text/html": [
              "<div>\n",
              "<style scoped>\n",
              "    .dataframe tbody tr th:only-of-type {\n",
              "        vertical-align: middle;\n",
              "    }\n",
              "\n",
              "    .dataframe tbody tr th {\n",
              "        vertical-align: top;\n",
              "    }\n",
              "\n",
              "    .dataframe thead th {\n",
              "        text-align: right;\n",
              "    }\n",
              "</style>\n",
              "<table border=\"1\" class=\"dataframe\">\n",
              "  <thead>\n",
              "    <tr style=\"text-align: right;\">\n",
              "      <th></th>\n",
              "      <th>usia (X)</th>\n",
              "      <th>ukuran tanah (Y)</th>\n",
              "    </tr>\n",
              "  </thead>\n",
              "  <tbody>\n",
              "    <tr>\n",
              "      <th>0</th>\n",
              "      <td>18</td>\n",
              "      <td>39</td>\n",
              "    </tr>\n",
              "    <tr>\n",
              "      <th>1</th>\n",
              "      <td>23</td>\n",
              "      <td>35</td>\n",
              "    </tr>\n",
              "    <tr>\n",
              "      <th>2</th>\n",
              "      <td>21</td>\n",
              "      <td>36</td>\n",
              "    </tr>\n",
              "    <tr>\n",
              "      <th>3</th>\n",
              "      <td>27</td>\n",
              "      <td>44</td>\n",
              "    </tr>\n",
              "    <tr>\n",
              "      <th>4</th>\n",
              "      <td>26</td>\n",
              "      <td>43</td>\n",
              "    </tr>\n",
              "    <tr>\n",
              "      <th>...</th>\n",
              "      <td>...</td>\n",
              "      <td>...</td>\n",
              "    </tr>\n",
              "    <tr>\n",
              "      <th>195</th>\n",
              "      <td>21</td>\n",
              "      <td>39</td>\n",
              "    </tr>\n",
              "    <tr>\n",
              "      <th>196</th>\n",
              "      <td>18</td>\n",
              "      <td>36</td>\n",
              "    </tr>\n",
              "    <tr>\n",
              "      <th>197</th>\n",
              "      <td>22</td>\n",
              "      <td>36</td>\n",
              "    </tr>\n",
              "    <tr>\n",
              "      <th>198</th>\n",
              "      <td>27</td>\n",
              "      <td>35</td>\n",
              "    </tr>\n",
              "    <tr>\n",
              "      <th>199</th>\n",
              "      <td>26</td>\n",
              "      <td>38</td>\n",
              "    </tr>\n",
              "  </tbody>\n",
              "</table>\n",
              "<p>200 rows × 2 columns</p>\n",
              "</div>"
            ],
            "text/plain": [
              "     usia (X)  ukuran tanah (Y)\n",
              "0          18                39\n",
              "1          23                35\n",
              "2          21                36\n",
              "3          27                44\n",
              "4          26                43\n",
              "..        ...               ...\n",
              "195        21                39\n",
              "196        18                36\n",
              "197        22                36\n",
              "198        27                35\n",
              "199        26                38\n",
              "\n",
              "[200 rows x 2 columns]"
            ]
          },
          "metadata": {},
          "execution_count": 143
        }
      ]
    },
    {
      "cell_type": "code",
      "metadata": {
        "id": "eUspoZSwHYi0"
      },
      "source": [
        "#  membagi data menjadi data dependen dan independen\n",
        "X = df[\"usia (X)\"].values[:, np.newaxis]\n",
        "Y = df[\"ukuran tanah (Y)\"].values\n"
      ],
      "execution_count": 144,
      "outputs": []
    },
    {
      "cell_type": "code",
      "metadata": {
        "id": "J_XuokV2Hbzo"
      },
      "source": [
        "# split data menjadi data test dan data train dengan perbandingan 3:7\n",
        "X_train, X_test, y_train, y_test = train_test_split(X, Y, test_size =  0.3)"
      ],
      "execution_count": 145,
      "outputs": []
    },
    {
      "cell_type": "code",
      "metadata": {
        "colab": {
          "base_uri": "https://localhost:8080/"
        },
        "id": "6X6i_056HfaN",
        "outputId": "88fbdbed-4cb7-4fa8-99a0-04ef5a64894b"
      },
      "source": [
        "# membuat model\n",
        "# opsi 1 : simpan ke dalam variabel agar lebih singkat\n",
        "lr = LinearRegression()\n",
        "lr.fit(X, Y)\n",
        "\n",
        "# opsi 2 : LinearRegression().fit"
      ],
      "execution_count": 146,
      "outputs": [
        {
          "output_type": "execute_result",
          "data": {
            "text/plain": [
              "LinearRegression(copy_X=True, fit_intercept=True, n_jobs=None, normalize=False)"
            ]
          },
          "metadata": {},
          "execution_count": 146
        }
      ]
    },
    {
      "cell_type": "code",
      "metadata": {
        "colab": {
          "base_uri": "https://localhost:8080/"
        },
        "id": "V8HdsTC0HoH9",
        "outputId": "73406d16-629d-4b48-bc14-3f2771f9878e"
      },
      "source": [
        "# mencetak atribut intercept dan coef pada lr\n",
        "print(\"Intercept :\" + str(lr.intercept_))\n",
        "print(\"Coefficient :\" + str(lr.coef_))"
      ],
      "execution_count": 147,
      "outputs": [
        {
          "output_type": "stream",
          "name": "stdout",
          "text": [
            "Intercept :38.937156571632094\n",
            "Coefficient :[0.01396311]\n"
          ]
        }
      ]
    },
    {
      "cell_type": "code",
      "metadata": {
        "colab": {
          "base_uri": "https://localhost:8080/"
        },
        "id": "Ad0GlykIHsfE",
        "outputId": "eefc120b-c19a-4ce9-ed57-a57b014ba755"
      },
      "source": [
        "# membuat list yang berisi usia \n",
        "usia_1 = [[26],[19],[17]]\n",
        "\n",
        "# prediksi ukuran tanah\n",
        "predict_result = lr.predict(usia_1)\n",
        "\n",
        "# mencetak usia dan prediksi ukuran tanah\n",
        "print(\"Usia  : {}\\nUkuran tanah  : {}\".format(usia_1,predict_result))\n"
      ],
      "execution_count": 148,
      "outputs": [
        {
          "output_type": "stream",
          "name": "stdout",
          "text": [
            "Usia  : [[26], [19], [17]]\n",
            "Ukuran tanah  : [39.30019737 39.20245562 39.1745294 ]\n"
          ]
        }
      ]
    },
    {
      "cell_type": "code",
      "metadata": {
        "colab": {
          "base_uri": "https://localhost:8080/",
          "height": 314
        },
        "id": "W8YNKrOvH4Nq",
        "outputId": "bda11adc-a423-40ac-a9f6-a29a52792dbc"
      },
      "source": [
        "# memprediksi data X\n",
        "predict_for_xtrain = lr.predict(X)\n",
        "\n",
        "# membuat dataframe baru dengan kolom x yang berisi usia, dan kolom y yang berisi data prediksi\n",
        "temporary_dataframe =  pd.DataFrame({\n",
        "    'x': df[\"usia (X)\"],\n",
        "    'y': predict_for_xtrain\n",
        "})\n",
        "\n",
        "# membuat plot scatter\n",
        "plt.scatter(df[\"usia (X)\"], df[\"ukuran tanah (Y)\"])\n",
        "plt.plot(temporary_dataframe['x'],temporary_dataframe['y'], color='m' ,linewidth = 4)\n",
        "\n",
        "# memberi nama pada sumbu x dan sumbu y\n",
        "plt.xlabel(\"usia\")\n",
        "plt.ylabel(\"ukuran tanah\")\n",
        "\n",
        "# judul plot\n",
        "plt.title(\"ukuran tanah\")\n",
        "\n",
        "# menampilkan plot\n",
        "plt.show"
      ],
      "execution_count": 149,
      "outputs": [
        {
          "output_type": "execute_result",
          "data": {
            "text/plain": [
              "<function matplotlib.pyplot.show>"
            ]
          },
          "metadata": {},
          "execution_count": 149
        },
        {
          "output_type": "display_data",
          "data": {
            "image/png": "[encoded data removed]",
            "text/plain": [
              "<Figure size 432x288 with 1 Axes>"
            ]
          },
          "metadata": {
            "needs_background": "light"
          }
        }
      ]
    },
    {
      "cell_type": "markdown",
      "metadata": {
        "id": "jGu-oKm7Ik5G"
      },
      "source": [
        "logistik logistik"
      ]
    },
    {
      "cell_type": "code",
      "metadata": {
        "colab": {
          "base_uri": "https://localhost:8080/",
          "height": 424
        },
        "id": "BC-FKPj5Ipfy",
        "outputId": "caeda7a8-0e13-48b2-9e90-75ccbeb70336"
      },
      "source": [
        "# membuat list yang berisi data kolom\n",
        "headers  =  ['age', 'sex', 'cp', 'tretsbps', 'chol', 'fbs', 'thalach', 'exang', \n",
        "'class']\n",
        "\n",
        "# load file csv pima dataset dan menampilkannya\n",
        "pdf = pd.read_csv('/content/heart_cleveland_upload.csv', names=headers)\n",
        "pdf\n"
      ],
      "execution_count": 150,
      "outputs": [
        {
          "output_type": "execute_result",
          "data": {
            "text/html": [
              "<div>\n",
              "<style scoped>\n",
              "    .dataframe tbody tr th:only-of-type {\n",
              "        vertical-align: middle;\n",
              "    }\n",
              "\n",
              "    .dataframe tbody tr th {\n",
              "        vertical-align: top;\n",
              "    }\n",
              "\n",
              "    .dataframe thead th {\n",
              "        text-align: right;\n",
              "    }\n",
              "</style>\n",
              "<table border=\"1\" class=\"dataframe\">\n",
              "  <thead>\n",
              "    <tr style=\"text-align: right;\">\n",
              "      <th></th>\n",
              "      <th></th>\n",
              "      <th></th>\n",
              "      <th></th>\n",
              "      <th></th>\n",
              "      <th>age</th>\n",
              "      <th>sex</th>\n",
              "      <th>cp</th>\n",
              "      <th>tretsbps</th>\n",
              "      <th>chol</th>\n",
              "      <th>fbs</th>\n",
              "      <th>thalach</th>\n",
              "      <th>exang</th>\n",
              "      <th>class</th>\n",
              "    </tr>\n",
              "  </thead>\n",
              "  <tbody>\n",
              "    <tr>\n",
              "      <th>age</th>\n",
              "      <th>sex</th>\n",
              "      <th>cp</th>\n",
              "      <th>trestbps</th>\n",
              "      <th>chol</th>\n",
              "      <td>fbs</td>\n",
              "      <td>restecg</td>\n",
              "      <td>thalach</td>\n",
              "      <td>exang</td>\n",
              "      <td>oldpeak</td>\n",
              "      <td>slope</td>\n",
              "      <td>ca</td>\n",
              "      <td>thal</td>\n",
              "      <td>condition</td>\n",
              "    </tr>\n",
              "    <tr>\n",
              "      <th rowspan=\"2\" valign=\"top\">69</th>\n",
              "      <th>1</th>\n",
              "      <th>0</th>\n",
              "      <th>160</th>\n",
              "      <th>234</th>\n",
              "      <td>1</td>\n",
              "      <td>2</td>\n",
              "      <td>131</td>\n",
              "      <td>0</td>\n",
              "      <td>0.1</td>\n",
              "      <td>1</td>\n",
              "      <td>1</td>\n",
              "      <td>0</td>\n",
              "      <td>0</td>\n",
              "    </tr>\n",
              "    <tr>\n",
              "      <th>0</th>\n",
              "      <th>0</th>\n",
              "      <th>140</th>\n",
              "      <th>239</th>\n",
              "      <td>0</td>\n",
              "      <td>0</td>\n",
              "      <td>151</td>\n",
              "      <td>0</td>\n",
              "      <td>1.8</td>\n",
              "      <td>0</td>\n",
              "      <td>2</td>\n",
              "      <td>0</td>\n",
              "      <td>0</td>\n",
              "    </tr>\n",
              "    <tr>\n",
              "      <th>66</th>\n",
              "      <th>0</th>\n",
              "      <th>0</th>\n",
              "      <th>150</th>\n",
              "      <th>226</th>\n",
              "      <td>0</td>\n",
              "      <td>0</td>\n",
              "      <td>114</td>\n",
              "      <td>0</td>\n",
              "      <td>2.6</td>\n",
              "      <td>2</td>\n",
              "      <td>0</td>\n",
              "      <td>0</td>\n",
              "      <td>0</td>\n",
              "    </tr>\n",
              "    <tr>\n",
              "      <th>65</th>\n",
              "      <th>1</th>\n",
              "      <th>0</th>\n",
              "      <th>138</th>\n",
              "      <th>282</th>\n",
              "      <td>1</td>\n",
              "      <td>2</td>\n",
              "      <td>174</td>\n",
              "      <td>0</td>\n",
              "      <td>1.4</td>\n",
              "      <td>1</td>\n",
              "      <td>1</td>\n",
              "      <td>0</td>\n",
              "      <td>1</td>\n",
              "    </tr>\n",
              "    <tr>\n",
              "      <th>...</th>\n",
              "      <th>...</th>\n",
              "      <th>...</th>\n",
              "      <th>...</th>\n",
              "      <th>...</th>\n",
              "      <td>...</td>\n",
              "      <td>...</td>\n",
              "      <td>...</td>\n",
              "      <td>...</td>\n",
              "      <td>...</td>\n",
              "      <td>...</td>\n",
              "      <td>...</td>\n",
              "      <td>...</td>\n",
              "      <td>...</td>\n",
              "    </tr>\n",
              "    <tr>\n",
              "      <th>40</th>\n",
              "      <th>1</th>\n",
              "      <th>3</th>\n",
              "      <th>152</th>\n",
              "      <th>223</th>\n",
              "      <td>0</td>\n",
              "      <td>0</td>\n",
              "      <td>181</td>\n",
              "      <td>0</td>\n",
              "      <td>0</td>\n",
              "      <td>0</td>\n",
              "      <td>0</td>\n",
              "      <td>2</td>\n",
              "      <td>1</td>\n",
              "    </tr>\n",
              "    <tr>\n",
              "      <th>39</th>\n",
              "      <th>1</th>\n",
              "      <th>3</th>\n",
              "      <th>118</th>\n",
              "      <th>219</th>\n",
              "      <td>0</td>\n",
              "      <td>0</td>\n",
              "      <td>140</td>\n",
              "      <td>0</td>\n",
              "      <td>1.2</td>\n",
              "      <td>1</td>\n",
              "      <td>0</td>\n",
              "      <td>2</td>\n",
              "      <td>1</td>\n",
              "    </tr>\n",
              "    <tr>\n",
              "      <th rowspan=\"3\" valign=\"top\">35</th>\n",
              "      <th>1</th>\n",
              "      <th>3</th>\n",
              "      <th>120</th>\n",
              "      <th>198</th>\n",
              "      <td>0</td>\n",
              "      <td>0</td>\n",
              "      <td>130</td>\n",
              "      <td>1</td>\n",
              "      <td>1.6</td>\n",
              "      <td>1</td>\n",
              "      <td>0</td>\n",
              "      <td>2</td>\n",
              "      <td>1</td>\n",
              "    </tr>\n",
              "    <tr>\n",
              "      <th>0</th>\n",
              "      <th>3</th>\n",
              "      <th>138</th>\n",
              "      <th>183</th>\n",
              "      <td>0</td>\n",
              "      <td>0</td>\n",
              "      <td>182</td>\n",
              "      <td>0</td>\n",
              "      <td>1.4</td>\n",
              "      <td>0</td>\n",
              "      <td>0</td>\n",
              "      <td>0</td>\n",
              "      <td>0</td>\n",
              "    </tr>\n",
              "    <tr>\n",
              "      <th>1</th>\n",
              "      <th>3</th>\n",
              "      <th>126</th>\n",
              "      <th>282</th>\n",
              "      <td>0</td>\n",
              "      <td>2</td>\n",
              "      <td>156</td>\n",
              "      <td>1</td>\n",
              "      <td>0</td>\n",
              "      <td>0</td>\n",
              "      <td>0</td>\n",
              "      <td>2</td>\n",
              "      <td>1</td>\n",
              "    </tr>\n",
              "  </tbody>\n",
              "</table>\n",
              "<p>298 rows × 9 columns</p>\n",
              "</div>"
            ],
            "text/plain": [
              "                          age      sex       cp  ... thalach exang      class\n",
              "age sex cp trestbps chol  fbs  restecg  thalach  ...      ca  thal  condition\n",
              "69  1   0  160      234     1        2      131  ...       1     0          0\n",
              "    0   0  140      239     0        0      151  ...       2     0          0\n",
              "66  0   0  150      226     0        0      114  ...       0     0          0\n",
              "65  1   0  138      282     1        2      174  ...       1     0          1\n",
              "...                       ...      ...      ...  ...     ...   ...        ...\n",
              "40  1   3  152      223     0        0      181  ...       0     2          1\n",
              "39  1   3  118      219     0        0      140  ...       0     2          1\n",
              "35  1   3  120      198     0        0      130  ...       0     2          1\n",
              "    0   3  138      183     0        0      182  ...       0     0          0\n",
              "    1   3  126      282     0        2      156  ...       0     2          1\n",
              "\n",
              "[298 rows x 9 columns]"
            ]
          },
          "metadata": {},
          "execution_count": 150
        }
      ]
    },
    {
      "cell_type": "code",
      "metadata": {
        "colab": {
          "base_uri": "https://localhost:8080/"
        },
        "id": "_N4ehyHSMVlI",
        "outputId": "53a4b313-0bf7-4a88-df39-58658eaa8fd6"
      },
      "source": [
        "# membagi data menjadi data dependen dan independen\n",
        "X =  pdf.iloc[:, :-1]\n",
        "y =  pdf.iloc[:, -1]\n",
        "\n",
        "# menampilkan data yang telah dibagi tadi\n",
        "X,y"
      ],
      "execution_count": 152,
      "outputs": [
        {
          "output_type": "execute_result",
          "data": {
            "text/plain": [
              "(                          age      sex       cp  ...    fbs thalach exang\n",
              " age sex cp trestbps chol  fbs  restecg  thalach  ...  slope      ca  thal\n",
              " 69  1   0  160      234     1        2      131  ...      1       1     0\n",
              "     0   0  140      239     0        0      151  ...      0       2     0\n",
              " 66  0   0  150      226     0        0      114  ...      2       0     0\n",
              " 65  1   0  138      282     1        2      174  ...      1       1     0\n",
              " ...                       ...      ...      ...  ...    ...     ...   ...\n",
              " 40  1   3  152      223     0        0      181  ...      0       0     2\n",
              " 39  1   3  118      219     0        0      140  ...      1       0     2\n",
              " 35  1   3  120      198     0        0      130  ...      1       0     2\n",
              "     0   3  138      183     0        0      182  ...      0       0     0\n",
              "     1   3  126      282     0        2      156  ...      0       0     2\n",
              " \n",
              " [298 rows x 8 columns], age  sex  cp  trestbps  chol    condition\n",
              " 69   1    0   160       234             0\n",
              "      0    0   140       239             0\n",
              " 66   0    0   150       226             0\n",
              " 65   1    0   138       282             1\n",
              "                                   ...    \n",
              " 40   1    3   152       223             1\n",
              " 39   1    3   118       219             1\n",
              " 35   1    3   120       198             1\n",
              "      0    3   138       183             0\n",
              "      1    3   126       282             1\n",
              " Name: class, Length: 298, dtype: object)"
            ]
          },
          "metadata": {},
          "execution_count": 152
        }
      ]
    },
    {
      "cell_type": "code",
      "metadata": {
        "id": "O8UmoIxVJDe4"
      },
      "source": [
        "# split data menjadi data test dan data train dengan perbandingan 4:10\n",
        "X_train, X_test, y_train, y_test = train_test_split(X, y, test_size =  0.4)"
      ],
      "execution_count": 153,
      "outputs": []
    },
    {
      "cell_type": "code",
      "metadata": {
        "colab": {
          "base_uri": "https://localhost:8080/"
        },
        "id": "cSRi1UkjMmtg",
        "outputId": "99da5bc4-d516-46e5-9b8c-d92969591c76"
      },
      "source": [
        "# membuat model kemudian fitting dengan data train\n",
        "model_lrg = LogisticRegression()\n",
        "model_lrg.fit(X_train, y_train)"
      ],
      "execution_count": 154,
      "outputs": [
        {
          "output_type": "stream",
          "name": "stderr",
          "text": [
            "/usr/local/lib/python3.7/dist-packages/sklearn/linear_model/_logistic.py:940: ConvergenceWarning: lbfgs failed to converge (status=1):\n",
            "STOP: TOTAL NO. of ITERATIONS REACHED LIMIT.\n",
            "\n",
            "Increase the number of iterations (max_iter) or scale the data as shown in:\n",
            "    https://scikit-learn.org/stable/modules/preprocessing.html\n",
            "Please also refer to the documentation for alternative solver options:\n",
            "    https://scikit-learn.org/stable/modules/linear_model.html#logistic-regression\n",
            "  extra_warning_msg=_LOGISTIC_SOLVER_CONVERGENCE_MSG)\n"
          ]
        },
        {
          "output_type": "execute_result",
          "data": {
            "text/plain": [
              "LogisticRegression(C=1.0, class_weight=None, dual=False, fit_intercept=True,\n",
              "                   intercept_scaling=1, l1_ratio=None, max_iter=100,\n",
              "                   multi_class='auto', n_jobs=None, penalty='l2',\n",
              "                   random_state=None, solver='lbfgs', tol=0.0001, verbose=0,\n",
              "                   warm_start=False)"
            ]
          },
          "metadata": {},
          "execution_count": 154
        }
      ]
    },
    {
      "cell_type": "code",
      "metadata": {
        "colab": {
          "base_uri": "https://localhost:8080/"
        },
        "id": "6tCym6BFMymR",
        "outputId": "0fb10520-8aa9-476f-bc32-375267abfb11"
      },
      "source": [
        "# menampilkan data tes\n",
        "print(X_test)"
      ],
      "execution_count": 155,
      "outputs": [
        {
          "output_type": "stream",
          "name": "stdout",
          "text": [
            "               age sex   cp tretsbps chol fbs thalach exang\n",
            "54 1 3 110 239   0   0  126        1  2.8   1       1     2\n",
            "58 0 3 170 225   1   2  146        1  2.8   1       2     1\n",
            "63 1 3 130 330   1   2  132        1  1.8   0       3     2\n",
            "58 1 3 150 270   0   2  111        1  0.8   0       0     2\n",
            "54 1 1 108 309   0   0  156        0    0   0       0     2\n",
            "...             ..  ..  ...      ...  ...  ..     ...   ...\n",
            "51 1 2 100 222   0   0  143        1  1.2   1       0     0\n",
            "   0 3 130 305   0   0  142        1  1.2   1       0     2\n",
            "45 0 3 138 236   0   2  152        1  0.2   1       0     0\n",
            "60 0 2 120 178   1   0   96        0    0   0       0     0\n",
            "65 0 2 140 417   1   2  157        0  0.8   0       1     0\n",
            "\n",
            "[120 rows x 8 columns]\n"
          ]
        }
      ]
    },
    {
      "cell_type": "code",
      "metadata": {
        "id": "NaIit9ChM31C"
      },
      "source": [
        "# reset index data\n",
        "X_test.reset_index(drop=True, inplace=True)"
      ],
      "execution_count": 173,
      "outputs": []
    },
    {
      "cell_type": "code",
      "metadata": {
        "colab": {
          "base_uri": "https://localhost:8080/"
        },
        "id": "isyjfF_FWcxp",
        "outputId": "1be601d1-3f3f-4cf3-bbe1-0ea2b3495ef6"
      },
      "source": [
        "import_data_iris = load_iris()\n",
        "\n",
        "import_data_iris"
      ],
      "execution_count": 174,
      "outputs": [
        {
          "output_type": "execute_result",
          "data": {
            "text/plain": [
              "{'DESCR': '.. _iris_dataset:\\n\\nIris plants dataset\\n--------------------\\n\\n**Data Set Characteristics:**\\n\\n    :Number of Instances: 150 (50 in each of three classes)\\n    :Number of Attributes: 4 numeric, predictive attributes and the class\\n    :Attribute Information:\\n        - sepal length in cm\\n        - sepal width in cm\\n        - petal length in cm\\n        - petal width in cm\\n        - class:\\n                - Iris-Setosa\\n                - Iris-Versicolour\\n                - Iris-Virginica\\n                \\n    :Summary Statistics:\\n\\n    ============== ==== ==== ======= ===== ====================\\n                    Min  Max   Mean    SD   Class Correlation\\n    ============== ==== ==== ======= ===== ====================\\n    sepal length:   4.3  7.9   5.84   0.83    0.7826\\n    sepal width:    2.0  4.4   3.05   0.43   -0.4194\\n    petal length:   1.0  6.9   3.76   1.76    0.9490  (high!)\\n    petal width:    0.1  2.5   1.20   0.76    0.9565  (high!)\\n    ============== ==== ==== ======= ===== ====================\\n\\n    :Missing Attribute Values: None\\n    :Class Distribution: 33.3% for each of 3 classes.\\n    :Creator: R.A. Fisher\\n    :Donor: Michael Marshall (MARSHALL%PLU@io.arc.nasa.gov)\\n    :Date: July, 1988\\n\\nThe famous Iris database, first used by Sir R.A. Fisher. The dataset is taken\\nfrom Fisher\\'s paper. Note that it\\'s the same as in R, but not as in the UCI\\nMachine Learning Repository, which has two wrong data points.\\n\\nThis is perhaps the best known database to be found in the\\npattern recognition literature.  Fisher\\'s paper is a classic in the field and\\nis referenced frequently to this day.  (See Duda & Hart, for example.)  The\\ndata set contains 3 classes of 50 instances each, where each class refers to a\\ntype of iris plant.  One class is linearly separable from the other 2; the\\nlatter are NOT linearly separable from each other.\\n\\n.. topic:: References\\n\\n   - Fisher, R.A. \"The use of multiple measurements in taxonomic problems\"\\n     Annual Eugenics, 7, Part II, 179-188 (1936); also in \"Contributions to\\n     Mathematical Statistics\" (John Wiley, NY, 1950).\\n   - Duda, R.O., & Hart, P.E. (1973) Pattern Classification and Scene Analysis.\\n     (Q327.D83) John Wiley & Sons.  ISBN 0-471-22361-1.  See page 218.\\n   - Dasarathy, B.V. (1980) \"Nosing Around the Neighborhood: A New System\\n     Structure and Classification Rule for Recognition in Partially Exposed\\n     Environments\".  IEEE Transactions on Pattern Analysis and Machine\\n     Intelligence, Vol. PAMI-2, No. 1, 67-71.\\n   - Gates, G.W. (1972) \"The Reduced Nearest Neighbor Rule\".  IEEE Transactions\\n     on Information Theory, May 1972, 431-433.\\n   - See also: 1988 MLC Proceedings, 54-64.  Cheeseman et al\"s AUTOCLASS II\\n     conceptual clustering system finds 3 classes in the data.\\n   - Many, many more ...',\n",
              " 'data': array([[5.1, 3.5, 1.4, 0.2],\n",
              "        [4.9, 3. , 1.4, 0.2],\n",
              "        [4.7, 3.2, 1.3, 0.2],\n",
              "        [4.6, 3.1, 1.5, 0.2],\n",
              "        [5. , 3.6, 1.4, 0.2],\n",
              "        [5.4, 3.9, 1.7, 0.4],\n",
              "        [4.6, 3.4, 1.4, 0.3],\n",
              "        [5. , 3.4, 1.5, 0.2],\n",
              "        [4.4, 2.9, 1.4, 0.2],\n",
              "        [4.9, 3.1, 1.5, 0.1],\n",
              "        [5.4, 3.7, 1.5, 0.2],\n",
              "        [4.8, 3.4, 1.6, 0.2],\n",
              "        [4.8, 3. , 1.4, 0.1],\n",
              "        [4.3, 3. , 1.1, 0.1],\n",
              "        [5.8, 4. , 1.2, 0.2],\n",
              "        [5.7, 4.4, 1.5, 0.4],\n",
              "        [5.4, 3.9, 1.3, 0.4],\n",
              "        [5.1, 3.5, 1.4, 0.3],\n",
              "        [5.7, 3.8, 1.7, 0.3],\n",
              "        [5.1, 3.8, 1.5, 0.3],\n",
              "        [5.4, 3.4, 1.7, 0.2],\n",
              "        [5.1, 3.7, 1.5, 0.4],\n",
              "        [4.6, 3.6, 1. , 0.2],\n",
              "        [5.1, 3.3, 1.7, 0.5],\n",
              "        [4.8, 3.4, 1.9, 0.2],\n",
              "        [5. , 3. , 1.6, 0.2],\n",
              "        [5. , 3.4, 1.6, 0.4],\n",
              "        [5.2, 3.5, 1.5, 0.2],\n",
              "        [5.2, 3.4, 1.4, 0.2],\n",
              "        [4.7, 3.2, 1.6, 0.2],\n",
              "        [4.8, 3.1, 1.6, 0.2],\n",
              "        [5.4, 3.4, 1.5, 0.4],\n",
              "        [5.2, 4.1, 1.5, 0.1],\n",
              "        [5.5, 4.2, 1.4, 0.2],\n",
              "        [4.9, 3.1, 1.5, 0.2],\n",
              "        [5. , 3.2, 1.2, 0.2],\n",
              "        [5.5, 3.5, 1.3, 0.2],\n",
              "        [4.9, 3.6, 1.4, 0.1],\n",
              "        [4.4, 3. , 1.3, 0.2],\n",
              "        [5.1, 3.4, 1.5, 0.2],\n",
              "        [5. , 3.5, 1.3, 0.3],\n",
              "        [4.5, 2.3, 1.3, 0.3],\n",
              "        [4.4, 3.2, 1.3, 0.2],\n",
              "        [5. , 3.5, 1.6, 0.6],\n",
              "        [5.1, 3.8, 1.9, 0.4],\n",
              "        [4.8, 3. , 1.4, 0.3],\n",
              "        [5.1, 3.8, 1.6, 0.2],\n",
              "        [4.6, 3.2, 1.4, 0.2],\n",
              "        [5.3, 3.7, 1.5, 0.2],\n",
              "        [5. , 3.3, 1.4, 0.2],\n",
              "        [7. , 3.2, 4.7, 1.4],\n",
              "        [6.4, 3.2, 4.5, 1.5],\n",
              "        [6.9, 3.1, 4.9, 1.5],\n",
              "        [5.5, 2.3, 4. , 1.3],\n",
              "        [6.5, 2.8, 4.6, 1.5],\n",
              "        [5.7, 2.8, 4.5, 1.3],\n",
              "        [6.3, 3.3, 4.7, 1.6],\n",
              "        [4.9, 2.4, 3.3, 1. ],\n",
              "        [6.6, 2.9, 4.6, 1.3],\n",
              "        [5.2, 2.7, 3.9, 1.4],\n",
              "        [5. , 2. , 3.5, 1. ],\n",
              "        [5.9, 3. , 4.2, 1.5],\n",
              "        [6. , 2.2, 4. , 1. ],\n",
              "        [6.1, 2.9, 4.7, 1.4],\n",
              "        [5.6, 2.9, 3.6, 1.3],\n",
              "        [6.7, 3.1, 4.4, 1.4],\n",
              "        [5.6, 3. , 4.5, 1.5],\n",
              "        [5.8, 2.7, 4.1, 1. ],\n",
              "        [6.2, 2.2, 4.5, 1.5],\n",
              "        [5.6, 2.5, 3.9, 1.1],\n",
              "        [5.9, 3.2, 4.8, 1.8],\n",
              "        [6.1, 2.8, 4. , 1.3],\n",
              "        [6.3, 2.5, 4.9, 1.5],\n",
              "        [6.1, 2.8, 4.7, 1.2],\n",
              "        [6.4, 2.9, 4.3, 1.3],\n",
              "        [6.6, 3. , 4.4, 1.4],\n",
              "        [6.8, 2.8, 4.8, 1.4],\n",
              "        [6.7, 3. , 5. , 1.7],\n",
              "        [6. , 2.9, 4.5, 1.5],\n",
              "        [5.7, 2.6, 3.5, 1. ],\n",
              "        [5.5, 2.4, 3.8, 1.1],\n",
              "        [5.5, 2.4, 3.7, 1. ],\n",
              "        [5.8, 2.7, 3.9, 1.2],\n",
              "        [6. , 2.7, 5.1, 1.6],\n",
              "        [5.4, 3. , 4.5, 1.5],\n",
              "        [6. , 3.4, 4.5, 1.6],\n",
              "        [6.7, 3.1, 4.7, 1.5],\n",
              "        [6.3, 2.3, 4.4, 1.3],\n",
              "        [5.6, 3. , 4.1, 1.3],\n",
              "        [5.5, 2.5, 4. , 1.3],\n",
              "        [5.5, 2.6, 4.4, 1.2],\n",
              "        [6.1, 3. , 4.6, 1.4],\n",
              "        [5.8, 2.6, 4. , 1.2],\n",
              "        [5. , 2.3, 3.3, 1. ],\n",
              "        [5.6, 2.7, 4.2, 1.3],\n",
              "        [5.7, 3. , 4.2, 1.2],\n",
              "        [5.7, 2.9, 4.2, 1.3],\n",
              "        [6.2, 2.9, 4.3, 1.3],\n",
              "        [5.1, 2.5, 3. , 1.1],\n",
              "        [5.7, 2.8, 4.1, 1.3],\n",
              "        [6.3, 3.3, 6. , 2.5],\n",
              "        [5.8, 2.7, 5.1, 1.9],\n",
              "        [7.1, 3. , 5.9, 2.1],\n",
              "        [6.3, 2.9, 5.6, 1.8],\n",
              "        [6.5, 3. , 5.8, 2.2],\n",
              "        [7.6, 3. , 6.6, 2.1],\n",
              "        [4.9, 2.5, 4.5, 1.7],\n",
              "        [7.3, 2.9, 6.3, 1.8],\n",
              "        [6.7, 2.5, 5.8, 1.8],\n",
              "        [7.2, 3.6, 6.1, 2.5],\n",
              "        [6.5, 3.2, 5.1, 2. ],\n",
              "        [6.4, 2.7, 5.3, 1.9],\n",
              "        [6.8, 3. , 5.5, 2.1],\n",
              "        [5.7, 2.5, 5. , 2. ],\n",
              "        [5.8, 2.8, 5.1, 2.4],\n",
              "        [6.4, 3.2, 5.3, 2.3],\n",
              "        [6.5, 3. , 5.5, 1.8],\n",
              "        [7.7, 3.8, 6.7, 2.2],\n",
              "        [7.7, 2.6, 6.9, 2.3],\n",
              "        [6. , 2.2, 5. , 1.5],\n",
              "        [6.9, 3.2, 5.7, 2.3],\n",
              "        [5.6, 2.8, 4.9, 2. ],\n",
              "        [7.7, 2.8, 6.7, 2. ],\n",
              "        [6.3, 2.7, 4.9, 1.8],\n",
              "        [6.7, 3.3, 5.7, 2.1],\n",
              "        [7.2, 3.2, 6. , 1.8],\n",
              "        [6.2, 2.8, 4.8, 1.8],\n",
              "        [6.1, 3. , 4.9, 1.8],\n",
              "        [6.4, 2.8, 5.6, 2.1],\n",
              "        [7.2, 3. , 5.8, 1.6],\n",
              "        [7.4, 2.8, 6.1, 1.9],\n",
              "        [7.9, 3.8, 6.4, 2. ],\n",
              "        [6.4, 2.8, 5.6, 2.2],\n",
              "        [6.3, 2.8, 5.1, 1.5],\n",
              "        [6.1, 2.6, 5.6, 1.4],\n",
              "        [7.7, 3. , 6.1, 2.3],\n",
              "        [6.3, 3.4, 5.6, 2.4],\n",
              "        [6.4, 3.1, 5.5, 1.8],\n",
              "        [6. , 3. , 4.8, 1.8],\n",
              "        [6.9, 3.1, 5.4, 2.1],\n",
              "        [6.7, 3.1, 5.6, 2.4],\n",
              "        [6.9, 3.1, 5.1, 2.3],\n",
              "        [5.8, 2.7, 5.1, 1.9],\n",
              "        [6.8, 3.2, 5.9, 2.3],\n",
              "        [6.7, 3.3, 5.7, 2.5],\n",
              "        [6.7, 3. , 5.2, 2.3],\n",
              "        [6.3, 2.5, 5. , 1.9],\n",
              "        [6.5, 3. , 5.2, 2. ],\n",
              "        [6.2, 3.4, 5.4, 2.3],\n",
              "        [5.9, 3. , 5.1, 1.8]]),\n",
              " 'feature_names': ['sepal length (cm)',\n",
              "  'sepal width (cm)',\n",
              "  'petal length (cm)',\n",
              "  'petal width (cm)'],\n",
              " 'filename': '/usr/local/lib/python3.7/dist-packages/sklearn/datasets/data/iris.csv',\n",
              " 'target': array([0, 0, 0, 0, 0, 0, 0, 0, 0, 0, 0, 0, 0, 0, 0, 0, 0, 0, 0, 0, 0, 0,\n",
              "        0, 0, 0, 0, 0, 0, 0, 0, 0, 0, 0, 0, 0, 0, 0, 0, 0, 0, 0, 0, 0, 0,\n",
              "        0, 0, 0, 0, 0, 0, 1, 1, 1, 1, 1, 1, 1, 1, 1, 1, 1, 1, 1, 1, 1, 1,\n",
              "        1, 1, 1, 1, 1, 1, 1, 1, 1, 1, 1, 1, 1, 1, 1, 1, 1, 1, 1, 1, 1, 1,\n",
              "        1, 1, 1, 1, 1, 1, 1, 1, 1, 1, 1, 1, 2, 2, 2, 2, 2, 2, 2, 2, 2, 2,\n",
              "        2, 2, 2, 2, 2, 2, 2, 2, 2, 2, 2, 2, 2, 2, 2, 2, 2, 2, 2, 2, 2, 2,\n",
              "        2, 2, 2, 2, 2, 2, 2, 2, 2, 2, 2, 2, 2, 2, 2, 2, 2, 2]),\n",
              " 'target_names': array(['setosa', 'versicolor', 'virginica'], dtype='<U10')}"
            ]
          },
          "metadata": {},
          "execution_count": 174
        }
      ]
    },
    {
      "cell_type": "code",
      "metadata": {
        "colab": {
          "base_uri": "https://localhost:8080/",
          "height": 424
        },
        "id": "0-w0rOQuW3wq",
        "outputId": "8e9c9aeb-461f-4d71-84ca-920f12705517"
      },
      "source": [
        "data_iris = pd.DataFrame(data=np.c_[import_data_iris['data'], import_data_iris['target']], \n",
        "                         columns= import_data_iris['feature_names']+['target'])\n",
        "\n",
        "data_iris"
      ],
      "execution_count": 164,
      "outputs": [
        {
          "output_type": "execute_result",
          "data": {
            "text/html": [
              "<div>\n",
              "<style scoped>\n",
              "    .dataframe tbody tr th:only-of-type {\n",
              "        vertical-align: middle;\n",
              "    }\n",
              "\n",
              "    .dataframe tbody tr th {\n",
              "        vertical-align: top;\n",
              "    }\n",
              "\n",
              "    .dataframe thead th {\n",
              "        text-align: right;\n",
              "    }\n",
              "</style>\n",
              "<table border=\"1\" class=\"dataframe\">\n",
              "  <thead>\n",
              "    <tr style=\"text-align: right;\">\n",
              "      <th></th>\n",
              "      <th>sepal length (cm)</th>\n",
              "      <th>sepal width (cm)</th>\n",
              "      <th>petal length (cm)</th>\n",
              "      <th>petal width (cm)</th>\n",
              "      <th>target</th>\n",
              "    </tr>\n",
              "  </thead>\n",
              "  <tbody>\n",
              "    <tr>\n",
              "      <th>0</th>\n",
              "      <td>5.1</td>\n",
              "      <td>3.5</td>\n",
              "      <td>1.4</td>\n",
              "      <td>0.2</td>\n",
              "      <td>0.0</td>\n",
              "    </tr>\n",
              "    <tr>\n",
              "      <th>1</th>\n",
              "      <td>4.9</td>\n",
              "      <td>3.0</td>\n",
              "      <td>1.4</td>\n",
              "      <td>0.2</td>\n",
              "      <td>0.0</td>\n",
              "    </tr>\n",
              "    <tr>\n",
              "      <th>2</th>\n",
              "      <td>4.7</td>\n",
              "      <td>3.2</td>\n",
              "      <td>1.3</td>\n",
              "      <td>0.2</td>\n",
              "      <td>0.0</td>\n",
              "    </tr>\n",
              "    <tr>\n",
              "      <th>3</th>\n",
              "      <td>4.6</td>\n",
              "      <td>3.1</td>\n",
              "      <td>1.5</td>\n",
              "      <td>0.2</td>\n",
              "      <td>0.0</td>\n",
              "    </tr>\n",
              "    <tr>\n",
              "      <th>4</th>\n",
              "      <td>5.0</td>\n",
              "      <td>3.6</td>\n",
              "      <td>1.4</td>\n",
              "      <td>0.2</td>\n",
              "      <td>0.0</td>\n",
              "    </tr>\n",
              "    <tr>\n",
              "      <th>...</th>\n",
              "      <td>...</td>\n",
              "      <td>...</td>\n",
              "      <td>...</td>\n",
              "      <td>...</td>\n",
              "      <td>...</td>\n",
              "    </tr>\n",
              "    <tr>\n",
              "      <th>145</th>\n",
              "      <td>6.7</td>\n",
              "      <td>3.0</td>\n",
              "      <td>5.2</td>\n",
              "      <td>2.3</td>\n",
              "      <td>2.0</td>\n",
              "    </tr>\n",
              "    <tr>\n",
              "      <th>146</th>\n",
              "      <td>6.3</td>\n",
              "      <td>2.5</td>\n",
              "      <td>5.0</td>\n",
              "      <td>1.9</td>\n",
              "      <td>2.0</td>\n",
              "    </tr>\n",
              "    <tr>\n",
              "      <th>147</th>\n",
              "      <td>6.5</td>\n",
              "      <td>3.0</td>\n",
              "      <td>5.2</td>\n",
              "      <td>2.0</td>\n",
              "      <td>2.0</td>\n",
              "    </tr>\n",
              "    <tr>\n",
              "      <th>148</th>\n",
              "      <td>6.2</td>\n",
              "      <td>3.4</td>\n",
              "      <td>5.4</td>\n",
              "      <td>2.3</td>\n",
              "      <td>2.0</td>\n",
              "    </tr>\n",
              "    <tr>\n",
              "      <th>149</th>\n",
              "      <td>5.9</td>\n",
              "      <td>3.0</td>\n",
              "      <td>5.1</td>\n",
              "      <td>1.8</td>\n",
              "      <td>2.0</td>\n",
              "    </tr>\n",
              "  </tbody>\n",
              "</table>\n",
              "<p>150 rows × 5 columns</p>\n",
              "</div>"
            ],
            "text/plain": [
              "     sepal length (cm)  sepal width (cm)  ...  petal width (cm)  target\n",
              "0                  5.1               3.5  ...               0.2     0.0\n",
              "1                  4.9               3.0  ...               0.2     0.0\n",
              "2                  4.7               3.2  ...               0.2     0.0\n",
              "3                  4.6               3.1  ...               0.2     0.0\n",
              "4                  5.0               3.6  ...               0.2     0.0\n",
              "..                 ...               ...  ...               ...     ...\n",
              "145                6.7               3.0  ...               2.3     2.0\n",
              "146                6.3               2.5  ...               1.9     2.0\n",
              "147                6.5               3.0  ...               2.0     2.0\n",
              "148                6.2               3.4  ...               2.3     2.0\n",
              "149                5.9               3.0  ...               1.8     2.0\n",
              "\n",
              "[150 rows x 5 columns]"
            ]
          },
          "metadata": {},
          "execution_count": 164
        }
      ]
    },
    {
      "cell_type": "code",
      "metadata": {
        "colab": {
          "base_uri": "https://localhost:8080/",
          "height": 298
        },
        "id": "slMHlw-BW9Aj",
        "outputId": "c1a3f24e-b890-43b3-fc7d-7a3e5cb7a7fe"
      },
      "source": [
        "data_iris.plot(x=\"sepal length (cm)\", y=\"target\", style=\"o\")"
      ],
      "execution_count": 165,
      "outputs": [
        {
          "output_type": "execute_result",
          "data": {
            "text/plain": [
              "<matplotlib.axes._subplots.AxesSubplot at 0x7f1c99ccf7d0>"
            ]
          },
          "metadata": {},
          "execution_count": 165
        },
        {
          "output_type": "display_data",
          "data": {
            "image/png": "[encoded data removed]",
            "text/plain": [
              "<Figure size 432x288 with 1 Axes>"
            ]
          },
          "metadata": {
            "needs_background": "light"
          }
        }
      ]
    },
    {
      "cell_type": "code",
      "metadata": {
        "id": "nGm0xrPSXKlZ"
      },
      "source": [
        "X =  data_iris.iloc[:, :-1]\n",
        "y =  data_iris.iloc[:, -1]"
      ],
      "execution_count": 166,
      "outputs": []
    },
    {
      "cell_type": "code",
      "metadata": {
        "id": "5kZZAzQVXPYc"
      },
      "source": [
        "\n",
        "X_train, X_test, y_train, y_test = train_test_split(X, y, test_size =  0.4)\n"
      ],
      "execution_count": 175,
      "outputs": []
    },
    {
      "cell_type": "code",
      "metadata": {
        "colab": {
          "base_uri": "https://localhost:8080/"
        },
        "id": "-52lnEAVXUJ3",
        "outputId": "ea5330c4-4290-488e-a3f6-2f7cd7d620c4"
      },
      "source": [
        "model_lrg = LogisticRegression()\n",
        "\n",
        "model_lrg.fit(X_train, y_train)\n",
        "\n"
      ],
      "execution_count": 176,
      "outputs": [
        {
          "output_type": "stream",
          "name": "stderr",
          "text": [
            "/usr/local/lib/python3.7/dist-packages/sklearn/linear_model/_logistic.py:940: ConvergenceWarning: lbfgs failed to converge (status=1):\n",
            "STOP: TOTAL NO. of ITERATIONS REACHED LIMIT.\n",
            "\n",
            "Increase the number of iterations (max_iter) or scale the data as shown in:\n",
            "    https://scikit-learn.org/stable/modules/preprocessing.html\n",
            "Please also refer to the documentation for alternative solver options:\n",
            "    https://scikit-learn.org/stable/modules/linear_model.html#logistic-regression\n",
            "  extra_warning_msg=_LOGISTIC_SOLVER_CONVERGENCE_MSG)\n"
          ]
        },
        {
          "output_type": "execute_result",
          "data": {
            "text/plain": [
              "LogisticRegression(C=1.0, class_weight=None, dual=False, fit_intercept=True,\n",
              "                   intercept_scaling=1, l1_ratio=None, max_iter=100,\n",
              "                   multi_class='auto', n_jobs=None, penalty='l2',\n",
              "                   random_state=None, solver='lbfgs', tol=0.0001, verbose=0,\n",
              "                   warm_start=False)"
            ]
          },
          "metadata": {},
          "execution_count": 176
        }
      ]
    },
    {
      "cell_type": "code",
      "metadata": {
        "colab": {
          "base_uri": "https://localhost:8080/"
        },
        "id": "XT9LY-cjXZ9C",
        "outputId": "5d1c833f-d19b-4874-bd0f-395213e7b237"
      },
      "source": [
        "print(X_test)"
      ],
      "execution_count": 177,
      "outputs": [
        {
          "output_type": "stream",
          "name": "stdout",
          "text": [
            "     sepal length (cm)  sepal width (cm)  petal length (cm)  petal width (cm)\n",
            "72                 6.3               2.5                4.9               1.5\n",
            "94                 5.6               2.7                4.2               1.3\n",
            "51                 6.4               3.2                4.5               1.5\n",
            "33                 5.5               4.2                1.4               0.2\n",
            "8                  4.4               2.9                1.4               0.2\n",
            "108                6.7               2.5                5.8               1.8\n",
            "106                4.9               2.5                4.5               1.7\n",
            "142                5.8               2.7                5.1               1.9\n",
            "92                 5.8               2.6                4.0               1.2\n",
            "107                7.3               2.9                6.3               1.8\n",
            "56                 6.3               3.3                4.7               1.6\n",
            "52                 6.9               3.1                4.9               1.5\n",
            "14                 5.8               4.0                1.2               0.2\n",
            "68                 6.2               2.2                4.5               1.5\n",
            "74                 6.4               2.9                4.3               1.3\n",
            "90                 5.5               2.6                4.4               1.2\n",
            "16                 5.4               3.9                1.3               0.4\n",
            "35                 5.0               3.2                1.2               0.2\n",
            "48                 5.3               3.7                1.5               0.2\n",
            "127                6.1               3.0                4.9               1.8\n",
            "3                  4.6               3.1                1.5               0.2\n",
            "145                6.7               3.0                5.2               2.3\n",
            "103                6.3               2.9                5.6               1.8\n",
            "7                  5.0               3.4                1.5               0.2\n",
            "82                 5.8               2.7                3.9               1.2\n",
            "59                 5.2               2.7                3.9               1.4\n",
            "105                7.6               3.0                6.6               2.1\n",
            "125                7.2               3.2                6.0               1.8\n",
            "76                 6.8               2.8                4.8               1.4\n",
            "60                 5.0               2.0                3.5               1.0\n",
            "21                 5.1               3.7                1.5               0.4\n",
            "139                6.9               3.1                5.4               2.1\n",
            "126                6.2               2.8                4.8               1.8\n",
            "28                 5.2               3.4                1.4               0.2\n",
            "121                5.6               2.8                4.9               2.0\n",
            "130                7.4               2.8                6.1               1.9\n",
            "61                 5.9               3.0                4.2               1.5\n",
            "25                 5.0               3.0                1.6               0.2\n",
            "10                 5.4               3.7                1.5               0.2\n",
            "146                6.3               2.5                5.0               1.9\n",
            "0                  5.1               3.5                1.4               0.2\n",
            "30                 4.8               3.1                1.6               0.2\n",
            "20                 5.4               3.4                1.7               0.2\n",
            "81                 5.5               2.4                3.7               1.0\n",
            "47                 4.6               3.2                1.4               0.2\n",
            "143                6.8               3.2                5.9               2.3\n",
            "113                5.7               2.5                5.0               2.0\n",
            "38                 4.4               3.0                1.3               0.2\n",
            "67                 5.8               2.7                4.1               1.0\n",
            "37                 4.9               3.6                1.4               0.1\n",
            "39                 5.1               3.4                1.5               0.2\n",
            "97                 6.2               2.9                4.3               1.3\n",
            "66                 5.6               3.0                4.5               1.5\n",
            "41                 4.5               2.3                1.3               0.3\n",
            "49                 5.0               3.3                1.4               0.2\n",
            "122                7.7               2.8                6.7               2.0\n",
            "136                6.3               3.4                5.6               2.4\n",
            "89                 5.5               2.5                4.0               1.3\n",
            "4                  5.0               3.6                1.4               0.2\n",
            "114                5.8               2.8                5.1               2.4\n"
          ]
        }
      ]
    },
    {
      "cell_type": "code",
      "metadata": {
        "colab": {
          "base_uri": "https://localhost:8080/"
        },
        "id": "jXRWi5b4XeIq",
        "outputId": "efae1338-9dde-4dac-e298-aaa1634149ed"
      },
      "source": [
        "X_test.reset_index(drop=True, inplace=True)\n",
        "\n",
        "prd_df = pd.DataFrame(model_lrg.predict(X_test))\n",
        "\n",
        "print(prd_df)"
      ],
      "execution_count": 170,
      "outputs": [
        {
          "output_type": "stream",
          "name": "stdout",
          "text": [
            "      0\n",
            "0   1.0\n",
            "1   0.0\n",
            "2   2.0\n",
            "3   2.0\n",
            "4   1.0\n",
            "5   2.0\n",
            "6   1.0\n",
            "7   2.0\n",
            "8   0.0\n",
            "9   1.0\n",
            "10  0.0\n",
            "11  2.0\n",
            "12  0.0\n",
            "13  2.0\n",
            "14  1.0\n",
            "15  2.0\n",
            "16  1.0\n",
            "17  1.0\n",
            "18  0.0\n",
            "19  0.0\n",
            "20  0.0\n",
            "21  2.0\n",
            "22  0.0\n",
            "23  0.0\n",
            "24  2.0\n",
            "25  0.0\n",
            "26  0.0\n",
            "27  2.0\n",
            "28  0.0\n",
            "29  2.0\n"
          ]
        }
      ]
    },
    {
      "cell_type": "code",
      "metadata": {
        "colab": {
          "base_uri": "https://localhost:8080/",
          "height": 991
        },
        "id": "4ak1gcgTXhog",
        "outputId": "287d5cce-bf40-4bab-cf8d-07e3812738d6"
      },
      "source": [
        "result = pd.concat([X_test, prd_df], axis = 1, ignore_index = True)\n",
        "result"
      ],
      "execution_count": 172,
      "outputs": [
        {
          "output_type": "execute_result",
          "data": {
            "text/html": [
              "<div>\n",
              "<style scoped>\n",
              "    .dataframe tbody tr th:only-of-type {\n",
              "        vertical-align: middle;\n",
              "    }\n",
              "\n",
              "    .dataframe tbody tr th {\n",
              "        vertical-align: top;\n",
              "    }\n",
              "\n",
              "    .dataframe thead th {\n",
              "        text-align: right;\n",
              "    }\n",
              "</style>\n",
              "<table border=\"1\" class=\"dataframe\">\n",
              "  <thead>\n",
              "    <tr style=\"text-align: right;\">\n",
              "      <th></th>\n",
              "      <th>0</th>\n",
              "      <th>1</th>\n",
              "      <th>2</th>\n",
              "      <th>3</th>\n",
              "      <th>4</th>\n",
              "    </tr>\n",
              "  </thead>\n",
              "  <tbody>\n",
              "    <tr>\n",
              "      <th>0</th>\n",
              "      <td>5.2</td>\n",
              "      <td>2.7</td>\n",
              "      <td>3.9</td>\n",
              "      <td>1.4</td>\n",
              "      <td>1.0</td>\n",
              "    </tr>\n",
              "    <tr>\n",
              "      <th>1</th>\n",
              "      <td>4.7</td>\n",
              "      <td>3.2</td>\n",
              "      <td>1.3</td>\n",
              "      <td>0.2</td>\n",
              "      <td>0.0</td>\n",
              "    </tr>\n",
              "    <tr>\n",
              "      <th>2</th>\n",
              "      <td>6.5</td>\n",
              "      <td>3.0</td>\n",
              "      <td>5.5</td>\n",
              "      <td>1.8</td>\n",
              "      <td>2.0</td>\n",
              "    </tr>\n",
              "    <tr>\n",
              "      <th>3</th>\n",
              "      <td>5.9</td>\n",
              "      <td>3.2</td>\n",
              "      <td>4.8</td>\n",
              "      <td>1.8</td>\n",
              "      <td>2.0</td>\n",
              "    </tr>\n",
              "    <tr>\n",
              "      <th>4</th>\n",
              "      <td>5.5</td>\n",
              "      <td>2.4</td>\n",
              "      <td>3.8</td>\n",
              "      <td>1.1</td>\n",
              "      <td>1.0</td>\n",
              "    </tr>\n",
              "    <tr>\n",
              "      <th>5</th>\n",
              "      <td>6.4</td>\n",
              "      <td>3.2</td>\n",
              "      <td>5.3</td>\n",
              "      <td>2.3</td>\n",
              "      <td>2.0</td>\n",
              "    </tr>\n",
              "    <tr>\n",
              "      <th>6</th>\n",
              "      <td>6.1</td>\n",
              "      <td>2.8</td>\n",
              "      <td>4.0</td>\n",
              "      <td>1.3</td>\n",
              "      <td>1.0</td>\n",
              "    </tr>\n",
              "    <tr>\n",
              "      <th>7</th>\n",
              "      <td>6.1</td>\n",
              "      <td>2.6</td>\n",
              "      <td>5.6</td>\n",
              "      <td>1.4</td>\n",
              "      <td>2.0</td>\n",
              "    </tr>\n",
              "    <tr>\n",
              "      <th>8</th>\n",
              "      <td>4.4</td>\n",
              "      <td>3.0</td>\n",
              "      <td>1.3</td>\n",
              "      <td>0.2</td>\n",
              "      <td>0.0</td>\n",
              "    </tr>\n",
              "    <tr>\n",
              "      <th>9</th>\n",
              "      <td>5.6</td>\n",
              "      <td>2.5</td>\n",
              "      <td>3.9</td>\n",
              "      <td>1.1</td>\n",
              "      <td>1.0</td>\n",
              "    </tr>\n",
              "    <tr>\n",
              "      <th>10</th>\n",
              "      <td>4.6</td>\n",
              "      <td>3.2</td>\n",
              "      <td>1.4</td>\n",
              "      <td>0.2</td>\n",
              "      <td>0.0</td>\n",
              "    </tr>\n",
              "    <tr>\n",
              "      <th>11</th>\n",
              "      <td>6.0</td>\n",
              "      <td>2.7</td>\n",
              "      <td>5.1</td>\n",
              "      <td>1.6</td>\n",
              "      <td>2.0</td>\n",
              "    </tr>\n",
              "    <tr>\n",
              "      <th>12</th>\n",
              "      <td>5.0</td>\n",
              "      <td>3.4</td>\n",
              "      <td>1.5</td>\n",
              "      <td>0.2</td>\n",
              "      <td>0.0</td>\n",
              "    </tr>\n",
              "    <tr>\n",
              "      <th>13</th>\n",
              "      <td>6.3</td>\n",
              "      <td>2.5</td>\n",
              "      <td>5.0</td>\n",
              "      <td>1.9</td>\n",
              "      <td>2.0</td>\n",
              "    </tr>\n",
              "    <tr>\n",
              "      <th>14</th>\n",
              "      <td>5.7</td>\n",
              "      <td>2.8</td>\n",
              "      <td>4.1</td>\n",
              "      <td>1.3</td>\n",
              "      <td>1.0</td>\n",
              "    </tr>\n",
              "    <tr>\n",
              "      <th>15</th>\n",
              "      <td>5.7</td>\n",
              "      <td>2.5</td>\n",
              "      <td>5.0</td>\n",
              "      <td>2.0</td>\n",
              "      <td>2.0</td>\n",
              "    </tr>\n",
              "    <tr>\n",
              "      <th>16</th>\n",
              "      <td>6.5</td>\n",
              "      <td>2.8</td>\n",
              "      <td>4.6</td>\n",
              "      <td>1.5</td>\n",
              "      <td>1.0</td>\n",
              "    </tr>\n",
              "    <tr>\n",
              "      <th>17</th>\n",
              "      <td>4.9</td>\n",
              "      <td>2.5</td>\n",
              "      <td>4.5</td>\n",
              "      <td>1.7</td>\n",
              "      <td>1.0</td>\n",
              "    </tr>\n",
              "    <tr>\n",
              "      <th>18</th>\n",
              "      <td>4.5</td>\n",
              "      <td>2.3</td>\n",
              "      <td>1.3</td>\n",
              "      <td>0.3</td>\n",
              "      <td>0.0</td>\n",
              "    </tr>\n",
              "    <tr>\n",
              "      <th>19</th>\n",
              "      <td>5.1</td>\n",
              "      <td>3.5</td>\n",
              "      <td>1.4</td>\n",
              "      <td>0.2</td>\n",
              "      <td>0.0</td>\n",
              "    </tr>\n",
              "    <tr>\n",
              "      <th>20</th>\n",
              "      <td>5.2</td>\n",
              "      <td>3.5</td>\n",
              "      <td>1.5</td>\n",
              "      <td>0.2</td>\n",
              "      <td>0.0</td>\n",
              "    </tr>\n",
              "    <tr>\n",
              "      <th>21</th>\n",
              "      <td>6.4</td>\n",
              "      <td>3.1</td>\n",
              "      <td>5.5</td>\n",
              "      <td>1.8</td>\n",
              "      <td>2.0</td>\n",
              "    </tr>\n",
              "    <tr>\n",
              "      <th>22</th>\n",
              "      <td>4.9</td>\n",
              "      <td>3.6</td>\n",
              "      <td>1.4</td>\n",
              "      <td>0.1</td>\n",
              "      <td>0.0</td>\n",
              "    </tr>\n",
              "    <tr>\n",
              "      <th>23</th>\n",
              "      <td>5.7</td>\n",
              "      <td>3.8</td>\n",
              "      <td>1.7</td>\n",
              "      <td>0.3</td>\n",
              "      <td>0.0</td>\n",
              "    </tr>\n",
              "    <tr>\n",
              "      <th>24</th>\n",
              "      <td>6.9</td>\n",
              "      <td>3.1</td>\n",
              "      <td>5.4</td>\n",
              "      <td>2.1</td>\n",
              "      <td>2.0</td>\n",
              "    </tr>\n",
              "    <tr>\n",
              "      <th>25</th>\n",
              "      <td>4.6</td>\n",
              "      <td>3.6</td>\n",
              "      <td>1.0</td>\n",
              "      <td>0.2</td>\n",
              "      <td>0.0</td>\n",
              "    </tr>\n",
              "    <tr>\n",
              "      <th>26</th>\n",
              "      <td>5.4</td>\n",
              "      <td>3.4</td>\n",
              "      <td>1.7</td>\n",
              "      <td>0.2</td>\n",
              "      <td>0.0</td>\n",
              "    </tr>\n",
              "    <tr>\n",
              "      <th>27</th>\n",
              "      <td>7.1</td>\n",
              "      <td>3.0</td>\n",
              "      <td>5.9</td>\n",
              "      <td>2.1</td>\n",
              "      <td>2.0</td>\n",
              "    </tr>\n",
              "    <tr>\n",
              "      <th>28</th>\n",
              "      <td>4.8</td>\n",
              "      <td>3.0</td>\n",
              "      <td>1.4</td>\n",
              "      <td>0.1</td>\n",
              "      <td>0.0</td>\n",
              "    </tr>\n",
              "    <tr>\n",
              "      <th>29</th>\n",
              "      <td>6.8</td>\n",
              "      <td>3.0</td>\n",
              "      <td>5.5</td>\n",
              "      <td>2.1</td>\n",
              "      <td>2.0</td>\n",
              "    </tr>\n",
              "  </tbody>\n",
              "</table>\n",
              "</div>"
            ],
            "text/plain": [
              "      0    1    2    3    4\n",
              "0   5.2  2.7  3.9  1.4  1.0\n",
              "1   4.7  3.2  1.3  0.2  0.0\n",
              "2   6.5  3.0  5.5  1.8  2.0\n",
              "3   5.9  3.2  4.8  1.8  2.0\n",
              "4   5.5  2.4  3.8  1.1  1.0\n",
              "5   6.4  3.2  5.3  2.3  2.0\n",
              "6   6.1  2.8  4.0  1.3  1.0\n",
              "7   6.1  2.6  5.6  1.4  2.0\n",
              "8   4.4  3.0  1.3  0.2  0.0\n",
              "9   5.6  2.5  3.9  1.1  1.0\n",
              "10  4.6  3.2  1.4  0.2  0.0\n",
              "11  6.0  2.7  5.1  1.6  2.0\n",
              "12  5.0  3.4  1.5  0.2  0.0\n",
              "13  6.3  2.5  5.0  1.9  2.0\n",
              "14  5.7  2.8  4.1  1.3  1.0\n",
              "15  5.7  2.5  5.0  2.0  2.0\n",
              "16  6.5  2.8  4.6  1.5  1.0\n",
              "17  4.9  2.5  4.5  1.7  1.0\n",
              "18  4.5  2.3  1.3  0.3  0.0\n",
              "19  5.1  3.5  1.4  0.2  0.0\n",
              "20  5.2  3.5  1.5  0.2  0.0\n",
              "21  6.4  3.1  5.5  1.8  2.0\n",
              "22  4.9  3.6  1.4  0.1  0.0\n",
              "23  5.7  3.8  1.7  0.3  0.0\n",
              "24  6.9  3.1  5.4  2.1  2.0\n",
              "25  4.6  3.6  1.0  0.2  0.0\n",
              "26  5.4  3.4  1.7  0.2  0.0\n",
              "27  7.1  3.0  5.9  2.1  2.0\n",
              "28  4.8  3.0  1.4  0.1  0.0\n",
              "29  6.8  3.0  5.5  2.1  2.0"
            ]
          },
          "metadata": {},
          "execution_count": 172
        }
      ]
    }
  ]
}